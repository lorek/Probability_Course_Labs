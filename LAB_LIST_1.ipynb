{
  "nbformat": 4,
  "nbformat_minor": 0,
  "metadata": {
    "colab": {
      "provenance": [],
      "authorship_tag": "ABX9TyO1GvfDg8HSafck8QKiIULY",
      "include_colab_link": true
    },
    "kernelspec": {
      "name": "python3",
      "display_name": "Python 3"
    },
    "language_info": {
      "name": "python"
    }
  },
  "cells": [
    {
      "cell_type": "markdown",
      "metadata": {
        "id": "view-in-github",
        "colab_type": "text"
      },
      "source": [
        "<a href=\"https://colab.research.google.com/github/lorek/Probability_Course_Labs/blob/main/LAB_LIST_1.ipynb\" target=\"_parent\"><img src=\"https://colab.research.google.com/assets/colab-badge.svg\" alt=\"Open In Colab\"/></a>"
      ]
    },
    {
      "cell_type": "markdown",
      "source": [
        "(Click above to open the notebook in Google Colab. Then save it to your Google Drive)"
      ],
      "metadata": {
        "id": "tCfMKYRwUIMf"
      }
    },
    {
      "cell_type": "markdown",
      "source": [
        "# Laboratorium z rachunku prawdopodobieństwa\n",
        "# Lista 1"
      ],
      "metadata": {
        "id": "VH72qVX3N3lG"
      }
    },
    {
      "cell_type": "markdown",
      "source": [
        "# Rozgrzewka: rzucamy kostką\n",
        "\n",
        "Rzucamy sześcienną kostką: wynikiem rzutu może być, z równymi prawdopodobieństwami, każda liczba\n",
        "całkowita od 1 do 6.\n",
        "\n",
        "* *Pytanie*: Jaka jest szansa, że wynikiem będzie liczba nieparzysta?\n",
        "\n",
        "* *Odpowiedź teoretyczna*: Eksperyment opisuje przestrzeń probabilistyczna $\\Omega = \\{1, 2, 3, 4, 5, 6\\}$ z miarą wyznaczoną przez $\\mathbb{P}(\\{i\\}) ={1\\over 6}, i=1,\\ldots,6$. Zatem $\\mathbb{P}(\\{1, 3, 5\\}) = 3 \\cdot{1\\over 6}={1\\over 2}$\n",
        "\n",
        "* *Odpowiedź praktyczna*: zróbmy symulację bardzo dużej liczby rzutów i popatrzmy, jak często wypada liczba nieparzysta. Zaczniemy od zdefiniowania funkcji, która losuje wyniki zadanej liczby rzutów kostką.\n",
        "\n"
      ],
      "metadata": {
        "id": "ExTnyKHDKVAi"
      }
    },
    {
      "cell_type": "markdown",
      "source": [],
      "metadata": {
        "id": "-HGxiBUYUF2g"
      }
    },
    {
      "cell_type": "code",
      "source": [
        "import numpy as np\n",
        "\n",
        "def rzuty_kostka(liczba_rzutow):\n",
        "    if liczba_rzutow > 0 and liczba_rzutow == int(liczba_rzutow):\n",
        "        wyniki_rzutow = np.random.choice(np.arange(1, 7), liczba_rzutow, replace=True)\n",
        "        return wyniki_rzutow\n",
        "    else:\n",
        "        print(\"Liczba rzutów musi być całkowita i dodatnia\")\n",
        "        return None\n"
      ],
      "metadata": {
        "id": "SNV6HDRoM563"
      },
      "execution_count": null,
      "outputs": []
    },
    {
      "cell_type": "markdown",
      "source": [
        "Mając wylosowane wyniki rzutów, sprawdzamy, które z nich są liczbami nieparzystymi i obliczamy, jak często to się zdarza."
      ],
      "metadata": {
        "id": "yv9AXyUgOVPJ"
      }
    },
    {
      "cell_type": "code",
      "source": [
        "\n",
        "x = 100                                               # Tu można podać dowolną inną liczbę\n",
        "wyniki = rzuty_kostka(x)                              # Tworzymy tablicę z wylosowanych wyników rzutów kostką\n",
        "nieparzystosc_wynikow = wyniki % 2                    # Wyniki nieparzyste zamieniamy na 1, a parzyste na 0\n",
        "liczba_nieparzystych = np.sum(nieparzystosc_wynikow)  # Sprawdzamy, ile otrzymaliśmy jedynek\n",
        "czestosc_nieparzystych = liczba_nieparzystych / x     # Rzuty z nieparzystym wynikiem w stosunku do liczby wszystkich rzutów\n",
        "\n",
        "print(\"Liczby nieparzyste stanowią \", czestosc_nieparzystych, \" spośród wszystkich wyników rzutów.\")\n"
      ],
      "metadata": {
        "colab": {
          "base_uri": "https://localhost:8080/"
        },
        "id": "WYNaYur5Or2I",
        "outputId": "92014dd4-4364-4c71-90b1-8217937b9ea9"
      },
      "execution_count": null,
      "outputs": [
        {
          "output_type": "stream",
          "name": "stdout",
          "text": [
            "Liczby nieparzyste stanowią  0.46  spośród wszystkich wyników rzutów.\n"
          ]
        }
      ]
    },
    {
      "cell_type": "markdown",
      "source": [
        "**Uwaga!** Wynik różni się od otrzymanego teoretycznie. Czy uważasz, że ta różnica jest duża? Wykonaj powyższy kod kilka razy i sprawdź, jak wynik zmienia się w kolejnych próbach. Następnie zmień liczbę rzutów kostką na 10000 i zobacz, jak bardzo wtedy otrzymywane wyniki odbiegają od wartości teoretycznej."
      ],
      "metadata": {
        "id": "cKSk2kWNO-QY"
      }
    },
    {
      "cell_type": "markdown",
      "source": [
        "# Ćwiczenie 1: milion rzutów kostką, czy rzut milionem kostek?"
      ],
      "metadata": {
        "id": "eQAm790uPDao"
      }
    },
    {
      "cell_type": "markdown",
      "source": [
        "Z matematycznego punktu widzenia nie ma znaczenia, ile kostek mamy do dyspozycji. Ważna jest tylko\n",
        "liczba rzutów i ich kolejność. Czy dla komputera ma to znaczenie? Sprawdźmy!"
      ],
      "metadata": {
        "id": "D7zgJx1lPGpB"
      }
    },
    {
      "cell_type": "code",
      "source": [
        "import time # biblioteka służąca do pomiaru czasu"
      ],
      "metadata": {
        "id": "U9-F_ihcQCEj"
      },
      "execution_count": null,
      "outputs": []
    },
    {
      "cell_type": "code",
      "source": [
        "\n",
        "\n",
        "np.random.seed(1)  # Ustawienie ziarna dla reprodukowalności\n",
        "\n",
        "x = []                        # Pusta lista na wyniki\n",
        "t_poczatek = time.time()      # Początkowy czas\n",
        "\n",
        "for i in range(1000000):      # Pętla dla miliona iteracji\n",
        "    x.append(np.random.choice(range(1, 7), 1)[0])  # Dodanie wyniku rzutu kostką do listy\n",
        "\n",
        "t_koniec = time.time()  # Końcowy czas\n",
        "czas_x = t_koniec - t_poczatek  # Obliczenie czasu wykonania\n",
        "\n",
        "print(\"Czas wykonania: \", czas_x , \" sekund\")"
      ],
      "metadata": {
        "colab": {
          "base_uri": "https://localhost:8080/"
        },
        "id": "SYjZ9GGLOr41",
        "outputId": "91d6a08b-792f-4c13-dafe-ae422f8b0b13"
      },
      "execution_count": null,
      "outputs": [
        {
          "output_type": "stream",
          "name": "stdout",
          "text": [
            "Czas wykonania:  27.737250328063965  sekund\n"
          ]
        }
      ]
    },
    {
      "cell_type": "markdown",
      "source": [
        "Powyższy kod sprawdza, ile czasu zajmuje komputerowi wykonanie miliona losowań wyniku rzutu kostką i zapisanie ich do wektora $x$. Tymczasem polecenie\n",
        "```python\n",
        "y = np.random.choice(range(1, 7), 1000000, replace=True)\n",
        "```\n",
        " generuje cały wektor na raz.\n",
        "\n",
        "* *Pytanie 1*. Który wektor jest generowany szybciej: $x$, czy $y$?\n",
        "* *Pytanie 2*. Powyższy kod nie tylko zapisuje do wektora x wyniki kolejnych rzutów, ale także zmienia jego długość. Jak zmieniłby się czas wykonania kodu, gdyby x był na początku zdefiniowany nie jako pusty wektor, ale wektor złożony miliona zer?\n",
        "* *Pytanie 3*.  Czy obie metody losowania dają te same wyniki?"
      ],
      "metadata": {
        "id": "Lka7vCedQRhK"
      }
    },
    {
      "cell_type": "code",
      "source": [
        "t_poczatek = time.time()\n",
        "y = np.random.choice(range(1, 7), 1000000, replace=True)\n",
        "t_koniec = time.time()  # Końcowy czas\n",
        "czas_x = t_koniec - t_poczatek  # Obliczenie czasu wykonania\n",
        "\n",
        "print(\"Czas wykonania: \", czas_x , \" sekund\")\n"
      ],
      "metadata": {
        "id": "kIgvUUodRWee",
        "colab": {
          "base_uri": "https://localhost:8080/"
        },
        "outputId": "3af9ede1-424d-4c89-8c7b-14cc684977f9"
      },
      "execution_count": null,
      "outputs": [
        {
          "output_type": "stream",
          "name": "stdout",
          "text": [
            "Czas wykonania:  0.05513644218444824  sekund\n"
          ]
        }
      ]
    },
    {
      "cell_type": "markdown",
      "source": [
        "# Ćwiczenie 2: gramy w Chińczyka"
      ],
      "metadata": {
        "id": "_kYZbODGRE-f"
      }
    },
    {
      "cell_type": "markdown",
      "source": [
        "Rzucamy kostką i przesuwamy pionek o liczbę pól równą wynikowi rzutu. Jeśli na kostce wypadnie 6, to otrzymujemy dodatkowy rzut. Nie przejmując się pozostałymi zasadami gry, spróbuj odpowiedzieć (teoretycznie i symulacyjnie) na następujące pytania:\n",
        "\n",
        "* *Pytanie 1*. Jak często pionek przesuwa się o co najmniej 25 pól?\n",
        "* *Pytanie 2*. Jak często długość ruchu pionka jest liczbą podzielną przez 5?"
      ],
      "metadata": {
        "id": "yz_4QjviRIeM"
      }
    },
    {
      "cell_type": "code",
      "source": [],
      "metadata": {
        "id": "MB-SQoozRUr9"
      },
      "execution_count": null,
      "outputs": []
    },
    {
      "cell_type": "markdown",
      "source": [
        "# Zadanie 1: rzucamy dwiema kostkami"
      ],
      "metadata": {
        "id": "mCPGUA2zRXOW"
      }
    },
    {
      "cell_type": "markdown",
      "source": [
        "Zasymuluj eksperyment polegający na powtórzonym dziesięć tysięcy razy rzucie dwiema kostkami sześciennymi. Zapisz wyniki w typie danych `np.array` tak, aby pierwsza kolumna zawierała wyniki rzutów pierwszą kostką, a druga\n",
        "- wyniki rzutów drugą kostką. Sprawdź, jak często występowały następujące zdarzenia:\n",
        "* łączna liczba oczek na obu kostkach jest podzielna przez 5\n",
        "* liczba oczek na pierwszej kostce jest o 4 większa od liczby oczek na drugiej kostce\n",
        "* wypadła co najmniej jedna szóstka\n",
        "* na dokładnie jednej kostce wypadły co najmniej 3 oczka\n",
        "\n",
        "Sprawdź, czy otrzymane wyniki pokrywają się z wartościami teoretycznymi.\n",
        "\n",
        "*Wskazówka* Możesz łatwo dodać do ramki danych kolumny odpowiadające poszczególnym zdarzeniom, z\n",
        "wartościami TRUE (gdy zdarzenie zaszło) i FALSE (w przeciwnym razie)."
      ],
      "metadata": {
        "id": "KZTyXWgiRbhH"
      }
    },
    {
      "cell_type": "code",
      "source": [],
      "metadata": {
        "id": "Xl84u5VQR3Kl"
      },
      "execution_count": null,
      "outputs": []
    },
    {
      "cell_type": "markdown",
      "source": [
        "# Zadanie 2: poker"
      ],
      "metadata": {
        "id": "ElwZrMbDR30N"
      }
    },
    {
      "cell_type": "markdown",
      "source": [
        "Z talii 52 kart (13 figur w 4 kolorach) losujemy 5. Jaka jest szansa, że wylosujemy\n",
        "* cztery asy?\n",
        "* same piki?\n",
        "* co najmniej jedną damę?\n",
        "\n",
        "Wyznacz prawdopodobieństwa teoretycznie i symulacyjnie. Ile razy trzeba powtórzyć losowanie, żeby uzyskać sensowne wyniki?\n",
        "\n",
        "*Wskazówka*. Karty z talii oznacz numerami od 1 do 52. Numery od 1 do 13 mogą oznaczać, dla przykładu,\n",
        "trefle (1 to as, 11 - walet, 12 - dama, 13 - król), od 14 do 26 - kara itd. Jakie operacje pozwalają na podstawie numeru karty w talii określić jej wysokość (zakodowaną liczbą od 1 do 13) i kolor (zakodowany liczbą od 1 do 4, albo od 0 do 3)?"
      ],
      "metadata": {
        "id": "IFGALObjR7Im"
      }
    },
    {
      "cell_type": "code",
      "source": [
        "set([4,5])"
      ],
      "metadata": {
        "colab": {
          "base_uri": "https://localhost:8080/"
        },
        "id": "MOpCyqQNCPSw",
        "outputId": "5a067f3a-537c-404e-e1e4-cb436ce3fcad"
      },
      "execution_count": null,
      "outputs": [
        {
          "output_type": "execute_result",
          "data": {
            "text/plain": [
              "{4, 5}"
            ]
          },
          "metadata": {},
          "execution_count": 14
        }
      ]
    },
    {
      "cell_type": "code",
      "source": [
        "{4} in set([4,5])"
      ],
      "metadata": {
        "colab": {
          "base_uri": "https://localhost:8080/"
        },
        "id": "Kf57KUBSPQk0",
        "outputId": "dea501b9-743d-443e-80cb-d4ba37d8fd1e"
      },
      "execution_count": null,
      "outputs": [
        {
          "output_type": "execute_result",
          "data": {
            "text/plain": [
              "False"
            ]
          },
          "metadata": {},
          "execution_count": 15
        }
      ]
    },
    {
      "cell_type": "code",
      "source": [
        "{3,4}.issubset({3,4,5})\n"
      ],
      "metadata": {
        "colab": {
          "base_uri": "https://localhost:8080/"
        },
        "id": "O0vQ1EH0PTlt",
        "outputId": "d043a0b1-2c5e-4088-facb-e421fc08054b"
      },
      "execution_count": null,
      "outputs": [
        {
          "output_type": "execute_result",
          "data": {
            "text/plain": [
              "True"
            ]
          },
          "metadata": {},
          "execution_count": 21
        }
      ]
    },
    {
      "cell_type": "code",
      "source": [
        "r=np.array([3,5,99,3,8])"
      ],
      "metadata": {
        "id": "u54uQSOmPdz6"
      },
      "execution_count": null,
      "outputs": []
    },
    {
      "cell_type": "code",
      "source": [
        "r.astype(set)"
      ],
      "metadata": {
        "colab": {
          "base_uri": "https://localhost:8080/"
        },
        "id": "fYBTDvdDPznW",
        "outputId": "d3fc3269-9783-4b3e-c231-883ca345623e"
      },
      "execution_count": null,
      "outputs": [
        {
          "output_type": "execute_result",
          "data": {
            "text/plain": [
              "array([3, 5, 99, 3, 8], dtype=object)"
            ]
          },
          "metadata": {},
          "execution_count": 30
        }
      ]
    },
    {
      "cell_type": "code",
      "source": [
        "{3,4}.issubset(r)"
      ],
      "metadata": {
        "id": "yw8AzCF5QCCL",
        "outputId": "b806a213-1b01-4896-ee8f-5d74fd9ec336",
        "colab": {
          "base_uri": "https://localhost:8080/"
        }
      },
      "execution_count": null,
      "outputs": [
        {
          "output_type": "execute_result",
          "data": {
            "text/plain": [
              "False"
            ]
          },
          "metadata": {},
          "execution_count": 31
        }
      ]
    },
    {
      "cell_type": "code",
      "source": [
        "{3,5}.issubset(r)"
      ],
      "metadata": {
        "id": "TEJ-w0ASQG02",
        "outputId": "5f6fb9f6-7293-4477-b1d4-08bc056b9e33",
        "colab": {
          "base_uri": "https://localhost:8080/"
        }
      },
      "execution_count": null,
      "outputs": [
        {
          "output_type": "execute_result",
          "data": {
            "text/plain": [
              "True"
            ]
          },
          "metadata": {},
          "execution_count": 32
        }
      ]
    },
    {
      "cell_type": "code",
      "source": [],
      "metadata": {
        "id": "pooEpYkwQIzE"
      },
      "execution_count": null,
      "outputs": []
    }
  ]
}