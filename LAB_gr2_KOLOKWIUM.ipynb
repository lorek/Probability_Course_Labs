{
  "nbformat": 4,
  "nbformat_minor": 0,
  "metadata": {
    "colab": {
      "provenance": [],
      "authorship_tag": "ABX9TyPdr+q1DygGR1aCxcPmmLVB",
      "include_colab_link": true
    },
    "kernelspec": {
      "name": "python3",
      "display_name": "Python 3"
    },
    "language_info": {
      "name": "python"
    }
  },
  "cells": [
    {
      "cell_type": "markdown",
      "metadata": {
        "id": "view-in-github",
        "colab_type": "text"
      },
      "source": [
        "<a href=\"https://colab.research.google.com/github/lorek/Probability_Course_Labs/blob/main/LAB_gr2_KOLOKWIUM.ipynb\" target=\"_parent\"><img src=\"https://colab.research.google.com/assets/colab-badge.svg\" alt=\"Open In Colab\"/></a>"
      ]
    },
    {
      "cell_type": "markdown",
      "source": [
        "#Laboratorium z rachunku prawdopodobieństwa\n",
        "\n",
        "##kolokwium zaliczeniowe – grupa 2\n",
        "\n",
        "##11.06.2024, 16:15–17:00"
      ],
      "metadata": {
        "id": "M95JvOy7GGVu"
      }
    },
    {
      "cell_type": "markdown",
      "source": [
        "# Mocne prawo wielkich liczb"
      ],
      "metadata": {
        "id": "SVgsbOnglZh6"
      }
    },
    {
      "cell_type": "markdown",
      "source": [
        "\n",
        "Załóżmy, że $X_1,X_2,\\ldots$ to nieskończony ciąg niezależnych\n",
        "zmiennych losowych o jednakowym rozkładzie, o wartości oczekiwanej\n",
        "$\\mu<\\infty$. Sumą częściową takiego ciągu nazywamy zmienną losową\n",
        "$S_n=X_1+\\ldots+X_n$ dla $n=1,2,\\ldots$. Wtedy ciąg $(X_n)$\n",
        "spełnia mocne prawo wielkich liczb, tzn. z prawdopodobieństwem 1\n",
        "spełniona jest równość\n",
        "$$  \\lim_{n\\to\\infty}\\frac{1}{n}S_n=\\mu.$$ Sprawdź działanie mocnego prawa wielkich liczb dla ciągu niezależnych\n",
        "zmiennych losowych o rozkładzie geometrycznym Geo$\\left(\\frac{2}{5}\\right)$.\n",
        "\n",
        "\n",
        "\n",
        "*Uwaga*. Przez rozkład geometryczny Geo$(p)$ z parametrem $p\\in(0,1)$ rozumiemy $P(X=k)=(1-p)^{k-1}p, k=1,2,\\ldots$\n"
      ],
      "metadata": {
        "id": "hZZP_d7Wlbe6"
      }
    },
    {
      "cell_type": "markdown",
      "source": [
        "W poniższych zadaniach powinno się używać bibliotek:\n",
        "\n",
        "```python\n",
        "import numpy as np\n",
        "import matplotlib.pyplot as plt\n",
        "```\n"
      ],
      "metadata": {
        "id": "jFpzKmBLoA2I"
      }
    },
    {
      "cell_type": "code",
      "source": [
        "import numpy as np\n",
        "import matplotlib.pyplot as plt"
      ],
      "metadata": {
        "id": "ZMIa7024oGoA"
      },
      "execution_count": null,
      "outputs": []
    },
    {
      "cell_type": "markdown",
      "source": [
        "**Zadanie 1.**   Wylosuj dwieście 100-elementowych prób z rozkładu Geo$\\left(\\frac{2}{5}\\right)$ . Wynik losowania zapisz w formie macierzy numpy o 200 kolumnach i 100 wierszach."
      ],
      "metadata": {
        "id": "d5DGkfCKmUhI"
      }
    },
    {
      "cell_type": "code",
      "source": [],
      "metadata": {
        "id": "b04tPqEWIr90"
      },
      "execution_count": null,
      "outputs": []
    },
    {
      "cell_type": "markdown",
      "source": [
        "**Zadanie 2.** Dla $n=1,2,\\ldots,100$, dla każdej z 200 prób,\n",
        "oblicz sumy częściowe $S_n$. Wynik zapisz w macierzy  $\\texttt{numpy}$ o takich samych wymiarach, jak w poprzednim zadaniu. Dla pierwszych 10 prób\n",
        "oblicz wartości średnich częściowych $\\frac{S_n}{n},n=1,\\ldots,100$ i\n",
        "utwórz z nich nową macierz $\\texttt{numpy}$.\n",
        "\n"
      ],
      "metadata": {
        "id": "RgFXhhudmgMY"
      }
    },
    {
      "cell_type": "code",
      "source": [],
      "metadata": {
        "id": "CTayNRFrItKU"
      },
      "execution_count": null,
      "outputs": []
    },
    {
      "cell_type": "markdown",
      "source": [
        "**Zadanie 3.** Utwórz wykres o skali od 1 do 100 na osi $X$ oraz\n",
        "skali obejmującej wszystkie obliczone wartości średnich częściowych na\n",
        "osi $Y$. Narysuj poziomą czarną linię na\n",
        "wysokości $\\mu=\\mathbb{E}X_1$."
      ],
      "metadata": {
        "id": "5oDaBoF0mrex"
      }
    },
    {
      "cell_type": "code",
      "source": [],
      "metadata": {
        "id": "t5CUd7u_IvTd"
      },
      "execution_count": null,
      "outputs": []
    },
    {
      "cell_type": "markdown",
      "source": [
        "**Zadanie 4.** Zdefiniuj wektor 10 kolorów przy pomocy funkcji\n",
        "$\\texttt{plt.cm.rainbow()}$ i narysuj na jednym wykresie to co w poprzednim zadaniu oraz wykres  każdego z 10 ciągów średnich częściowych -- każdy innym kolorem.\n"
      ],
      "metadata": {
        "id": "eFnaQnQ6m0d6"
      }
    },
    {
      "cell_type": "code",
      "source": [],
      "metadata": {
        "id": "KA061G46IwSd"
      },
      "execution_count": null,
      "outputs": []
    },
    {
      "cell_type": "markdown",
      "source": [
        "# Centralne twierdzenie graniczne"
      ],
      "metadata": {
        "id": "-KEkkcTXnAZj"
      }
    },
    {
      "cell_type": "markdown",
      "source": [
        "Przy oznaczeniach z poprzedniego zadania, jeśli jest spełniony warunek\n",
        "Var$(X_1)=\\sigma^2<\\infty$, to ciąg zmiennych losowych\n",
        "$$U_n=\\frac{S_n-n\\mu}{\\sigma\\sqrt{n}},\\quad n=1,2,\\ldots$$\n",
        " jest zbieżny według rozkładu do standardowego rozkładu normalnego\n",
        "$\\mathcal{N}(0,1)$.\n"
      ],
      "metadata": {
        "id": "G4nyjASinC8r"
      }
    },
    {
      "cell_type": "markdown",
      "source": [
        "Sprawdź działanie centralnego twierdzenia granicznego dla rozkładu Geo$\\left(\\frac{2}{5}\\right)$."
      ],
      "metadata": {
        "id": "9L-rX-t-nT4s"
      }
    },
    {
      "cell_type": "markdown",
      "source": [
        "**Zadanie 5.** Wykorzystaj macierz sum częściowych z **zadania 2** do\n",
        "wyznaczenia wartości zmiennych $U_5,U_{12},U_{30},U_{100}$ dla wszystkich 200 prób.\n"
      ],
      "metadata": {
        "id": "32tjsm78nZPN"
      }
    },
    {
      "cell_type": "markdown",
      "source": [
        "**Rozw:** Mamy $$\\mu = 1/p , \\quad \\sigma^2 = {1-p\\over p^2} $$"
      ],
      "metadata": {
        "id": "zq6ZVdeUAEe9"
      }
    },
    {
      "cell_type": "code",
      "source": [],
      "metadata": {
        "id": "JAx8riqEI_Vp"
      },
      "execution_count": null,
      "outputs": []
    },
    {
      "cell_type": "markdown",
      "source": [
        "**Zadanie 6.** Utwórz histogramy gęstościowe zmiennych $U_5, U_{12}, U_{30}, U_{100}$ i nadaj im adekwatne tytuły. Do każdego z nich dorysuj wykres funkcji gęstości standardowego rozkładu normalnego $\\mathcal{N}(0, 1).$"
      ],
      "metadata": {
        "id": "35t6X5KZnlO2"
      }
    },
    {
      "cell_type": "code",
      "source": [],
      "metadata": {
        "id": "XcnWU9Zvm3vA"
      },
      "execution_count": null,
      "outputs": []
    },
    {
      "cell_type": "markdown",
      "source": [
        "#Podpowiedzi\n",
        "\n",
        "## Funkcje, które mogą się przydać:\n",
        "\n",
        "* `np.cumsum()` (argument: `axis=0` lub `axis=1`)\n",
        "* `plt.plot` (argumenty: `color`, `title`,`ylim`, `linewidth`)\n",
        "* `plt.hist` (argumenty: `bins`, `density`)\n",
        "* `np.min(), np.max()`\n",
        "* `np.sqrt()`\n",
        "* `np.random.geometric()` (argumenty `p` oraz `size`, mozna np. `size=3` lub `size=(3,7)`). Jest to symulowanie zmiennych z rozkładu geometrycznego $P(X=k)=(1-p)^{k-1} p, k=1,2,\\ldots$\n",
        "* `plt.cm.rainbow` (np. 5 różnych kolorów: `colors=plt.cm.rainbow(np.linspace(0, 1, 5)`, następnie w `plot` można użyć argumentu `color=colors[3]`)\n",
        "* gęstość rozkłądu normalnego: importujemy `from scipy.stats import norm`, następnie: `norm(x,0,1)` -- gęstość $\\mathcal{N}(0,1)$ w `x` (może być wektor)\n"
      ],
      "metadata": {
        "id": "cPMckKgYDjYJ"
      }
    },
    {
      "cell_type": "markdown",
      "source": [
        "#Zasady\n",
        "* Każde zadanie jest tak samo punktowane;\n",
        "*  Rozwiązania zapisz jako skrypt `.py` (jeden plik) lub `.ipynb` i prześlij mailem na   adres  pawel.lorek@math.uni.wroc.pl, w tytule maila powinno się znaleźć `LAB PRAWD KOLOKWIUM`;\n",
        "*  Możesz korzystać z dowolnych materiałów;\n",
        "*  Nie komunikuj się z innymi, ani nie korzystaj z pomocy AI;\n",
        "*  Masz czas do końca zajęć."
      ],
      "metadata": {
        "id": "2jhifUYQH9li"
      }
    },
    {
      "cell_type": "code",
      "source": [],
      "metadata": {
        "id": "0psZf8xfFONJ"
      },
      "execution_count": null,
      "outputs": []
    }
  ]
}