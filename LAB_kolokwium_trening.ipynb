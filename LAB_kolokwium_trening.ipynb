{
  "cells": [
    {
      "cell_type": "markdown",
      "metadata": {
        "id": "view-in-github",
        "colab_type": "text"
      },
      "source": [
        "<a href=\"https://colab.research.google.com/github/lorek/Probability_Course_Labs/blob/main/LAB_kolokwium_trening.ipynb\" target=\"_parent\"><img src=\"https://colab.research.google.com/assets/colab-badge.svg\" alt=\"Open In Colab\"/></a>"
      ]
    },
    {
      "cell_type": "markdown",
      "source": [
        "#Laboratorium z rachunku prawdopodobieństwa\n",
        "## Zadania treningowe przed kolokwium zaliczeniowym\n"
      ],
      "metadata": {
        "id": "6dn7f8f01bb1"
      }
    },
    {
      "cell_type": "markdown",
      "source": [
        "\n",
        "\n",
        "**Spacer losowy i prawo iterowanego logarytmu**\n",
        "\n",
        "\n",
        "Rozważmy następujący prosty spacer losowy po osi liczbowej: umieszczamy pionek w punkcie 0, a następnie w każdym ruchu przesuwamy go losowo o 1 w prawo lub o 1 w lewo. Łącznie wykonujemy w ten sposób $n$ ruchów. Formalnie definiujemy taki spacer w następujący sposób. Niech $X_1,X_2,\\ldots,X_n$ będą niezależnymi zmiennymi losowymi, takimi, że\n",
        "$$\n",
        " \\mathbb{P}(X_i=-1)=\\mathbb{P}(X_i=1)=\\frac{1}{2},\\quad i=1,2,\\ldots,n\n",
        "$$\n",
        "Zmienną losową $X_i$ interpretujemy jako zmianę pozycji pionka w $i$-tym kroku -- w skrócie będziemy ją nazywać **$i$-tym krokiem**. Wówczas\n",
        "$$\n",
        " S_i=X_1+X_2+\\ldots+X_i,\\quad i=1,2,\\ldots,n\n",
        "$$\n",
        "oznacza **pozycję** pionka po $n$ krokach. Ciąg $(S_1,S_2,\\ldots)$ kolejnych pozycji nazywamy **trajektorią** spaceru losowego. Na gruncie teorii możemy rozważać nieskończone spacery losowe, tzn. przyjmować $n=\\infty$. Takie nieskończone spacery losowe mają następującą własność.\n"
      ],
      "metadata": {
        "id": "vrQSobg71ZoF"
      }
    },
    {
      "cell_type": "markdown",
      "source": [
        "\n",
        "**Twierdzenie (prawo iterowanego logarytmu).** Niech $S_1,S_2,\\ldots$ będzie trajektorią nieskończonego prostego spaceru losowego. Wówczas\n",
        "$$\n",
        " \\limsup_{n\\to\\infty}\\frac{S_n}{\\sqrt{2n\\log\\log n}}=-\\liminf_{n\\to\\infty}\\frac{S_n}{\\sqrt{2n\\log\\log n}}=1\\quad{\\rm z\\ prawdopodobieństwem\\ 1}.\n",
        "$$\n",
        "Tutaj $\\log$ oznacza logarytm naturalny. Sprawdzimy działanie prawa iterowanego logarytmu na skończonym spacerze losowym.\n"
      ],
      "metadata": {
        "id": "3zR_hZ681iWF"
      }
    },
    {
      "cell_type": "markdown",
      "source": [
        "W poniższych zadaniach powinno się używać bibliotek:\n",
        "\n",
        "```python\n",
        "import numpy as np\n",
        "import matplotlib.pyplot as plt\n",
        "```\n"
      ],
      "metadata": {
        "id": "0eY2w1R44vLq"
      }
    },
    {
      "cell_type": "code",
      "source": [
        "import numpy as np\n",
        "import matplotlib.pyplot as plt"
      ],
      "metadata": {
        "id": "p9iG-wxB4uih"
      },
      "execution_count": 1,
      "outputs": []
    },
    {
      "cell_type": "markdown",
      "metadata": {
        "id": "4ENy-pmG1C_E"
      },
      "source": [
        "\n",
        "\n",
        "**Zadanie 1.** Wylosuj 30 razy po $n=200$ kroków spaceru losowego i zapisz je w macierzy `numpy.ndarray` z 200 wierszami i 30 kolumnami, tj. rozmiaru (200,30)\n",
        "\n",
        "*Przytatne funkcje i parametry*: `np.choice()`\n",
        "\n",
        "\n"
      ]
    },
    {
      "cell_type": "code",
      "source": [],
      "metadata": {
        "id": "nc7Fcz64ZYgT"
      },
      "execution_count": null,
      "outputs": []
    },
    {
      "cell_type": "markdown",
      "source": [
        "\n",
        "**Zadanie 2.** Wykorzystaj kroki spacerów losowych z utworzonej macierzy numpy do obliczenia trajektorii. Wynikiem powinna być macierz numpy, zawierająca w każdej z 30 kolumn trajektorię jednego spaceru losowego długości $n=200$.\n",
        "\n",
        "*Przydatne funkcje*: `np.cumsum()`\n",
        "\n"
      ],
      "metadata": {
        "id": "rWObPjsl2bvg"
      }
    },
    {
      "cell_type": "code",
      "source": [],
      "metadata": {
        "id": "8p7QFvpAWMhi"
      },
      "execution_count": null,
      "outputs": []
    },
    {
      "cell_type": "markdown",
      "source": [
        "\n",
        "**Zadanie 3.** Narysuj wykresy dwóch funkcji $f(x)=\\sqrt{2x\\log\\log x}$ oraz $g(x)=-f(x)$. Skala na osi $X$ powinna przebiegać od 0 do 200. Skalę na osi $Y$ dobierz optymalnie do wartości obu funkcji. Wykresy powinny być narysowane czarną linią przerywaną grubości 2.\n",
        "\n",
        "*Przydatne funkcje i argumenty*: `plt.plot(), np.sqrt(), np.log(), plt.xlim(), plt.ylim(), plt.legend(), np.e`\n",
        "\n",
        "\n"
      ],
      "metadata": {
        "id": "Y45Kh-rC2ftw"
      }
    },
    {
      "cell_type": "code",
      "source": [],
      "metadata": {
        "id": "Ia-RJnUtZW1r"
      },
      "execution_count": null,
      "outputs": []
    },
    {
      "cell_type": "markdown",
      "source": [
        "\n",
        "**Zadanie 3,5.** Zastanów się, dlaczego przy tworzeniu wykresów wyświetla się (może zależeć od Twojego wyboru wartości na osi $X$) komunikat ostrzegawczy. Dla jakich $x$ funkcje $f(x)$ i $g(x)$ są dobrze zdefiniowane?\n"
      ],
      "metadata": {
        "id": "QkWeGbG52i2o"
      }
    },
    {
      "cell_type": "code",
      "source": [],
      "metadata": {
        "id": "W_4J4NWo-Hac"
      },
      "execution_count": null,
      "outputs": []
    },
    {
      "cell_type": "markdown",
      "source": [
        "\n",
        "**Zadanie 4.** Dorysuj do wykresu wykresy liniowe dla wszystkich 30 trajektorii spacerów losowych. Użyj funkcjii `plt.cm.rainbow()` do zdefiniowana 30 kolorów -- jednego dla każdej trajektorii. Ustaw poziom krycia `alpha` tak, aby wykresy funkcji narysowane w poprzednim zadaniu pozostały wyraźne. Trajektorie powinny być narysowane liniami ciągłymi grubości 1.\n",
        "\n",
        "*Przydatne funkcje i argumenty*:  np.linspace(), plt.plot(), plt.legend(), plt.show(), plt.cm.rainbow()`\n",
        "\n",
        "```python\n",
        "# Kolory dla trajektorii definiujemy następująco:\n",
        "colors = plt.cm.rainbow(np.linspace(0, 1, num_walks)) #tutaj: num_walks=30\n",
        "```\n"
      ],
      "metadata": {
        "id": "d1KXtaW32mUA"
      }
    },
    {
      "cell_type": "code",
      "source": [],
      "metadata": {
        "id": "lhfQ-eHI2psY"
      },
      "execution_count": null,
      "outputs": []
    },
    {
      "cell_type": "markdown",
      "source": [
        "\n",
        "## Rozkład wykładniczy i gamma\n",
        "\n"
      ],
      "metadata": {
        "id": "Oi2eNTSw2pzZ"
      }
    },
    {
      "cell_type": "markdown",
      "source": [
        "\n",
        "Zmienna losowa $X$ o rozkładzie wykładniczym z parametrem **intenstywności** $\\lambda>0$ ma gęstość i dystrybuantę:\n",
        "$$f(x)=\\lambda e^{-\\lambda x}, \\quad F(x)=1-e^{-\\lambda x}, \\qquad x\\geq 0.$$\n",
        "\n",
        "\n",
        "Zmienna losowe $Y$ ma rozkład Gamma z parametrami **kształtu** (shape) $\\alpha$ oraz **skali** (scale) $\\beta>0$ jeśli ma gęstość\n",
        "$$f(x)={1\\over \\beta^\\alpha \\Gamma(\\alpha)} x^{\\alpha-1} e^{-{x\\over \\beta}}, x\\geq 0.$$\n",
        "\n",
        "*Uwaga*: Czasami podawany jest rozkład z parametrami kształtu $\\alpha>0$ oraz parametrem **intensywności**, który jest odwrotnością parametru skali, tj. $\\lambda=1/\\beta$, wówczas gęstość wyraża się wzorem\n",
        "$$f(x)={\\lambda^\\alpha\\over \\Gamma(\\alpha)} x^{\\alpha-1} e^{-\\lambda x}, x\\geq 0.$$\n",
        "\n",
        "Przez rozkład Gamma($\\alpha,\\beta$) rozumiemy rozkład z parametrem **kształtu** $\\alpha$ oraz **skali** $\\beta$\n",
        "\n",
        "\n",
        "Załóżmy, że zmienne losowe $X$ i $Y$ są niezależne i mają rozkład wykładniczy Exp($\\lambda$). Wówczas  suma $Z=X+Y$ ma rozkład Gamma($2,\\lambda$).\n",
        "\n",
        "\n"
      ],
      "metadata": {
        "id": "XhIMoqJn2s85"
      }
    },
    {
      "cell_type": "markdown",
      "source": [
        "\n",
        "**Zadanie 5.** Wylosuj dwie stuelementowe próby `X`, `Y` z rozkładu Exp(2).\n",
        "\n",
        "*Przydatne funkcje*: `numpy.random.exponential()`\n",
        "\n",
        "*UWAGA* Funkcja `numpy.random.exponential()` przyjmuje parametr skali. Zatem wylosowanie Exp($\\lambda$) wygląda tak:\n",
        "\n",
        "```python\n",
        "lambda_param = 2\n",
        "X = np.random.exponential(1/lambda_param, 1000) #probka rozm 1k z Exp(2)\n",
        "```\n"
      ],
      "metadata": {
        "id": "OnbiqbqCQU2b"
      }
    },
    {
      "cell_type": "code",
      "source": [],
      "metadata": {
        "id": "tE_UVguMZfMz"
      },
      "execution_count": null,
      "outputs": []
    },
    {
      "cell_type": "markdown",
      "source": [
        "\n",
        "**Zadanie 6.** Użyj wektorów `X` i `Y` do stworzenia wektora `Z=X+Y`.\n",
        "\n"
      ],
      "metadata": {
        "id": "Km0I1Ioh2vfR"
      }
    },
    {
      "cell_type": "code",
      "source": [],
      "metadata": {
        "id": "aiuPrC22ZghL"
      },
      "execution_count": null,
      "outputs": []
    },
    {
      "cell_type": "markdown",
      "source": [
        "\n",
        "**Zadanie 7.** Narysuj histogram gęstościowy zmiennej `Z`.\n",
        "\n",
        "*Przydatne funkcje i argumenty*: `np.hist()`, `plt.hist()`\n"
      ],
      "metadata": {
        "id": "DL-hISTq2wmJ"
      }
    },
    {
      "cell_type": "code",
      "source": [],
      "metadata": {
        "id": "YHsbjfWrZiB7"
      },
      "execution_count": null,
      "outputs": []
    },
    {
      "cell_type": "markdown",
      "source": [
        "\n",
        "**Zadanie 8.** Dorysuj do histogramu wykres gęstości rozkładu Gamma(2,2).\n",
        "\n",
        "*Przydatne funkcje i argumenty*: `scipy.stats.gamma.pdf`\n"
      ],
      "metadata": {
        "id": "ympcAlbi2ySp"
      }
    },
    {
      "cell_type": "code",
      "source": [
        "# Gamma: symulowanie zmiennych losowych, funkcja gęstości, dystrybuanta\n",
        "# przy użyciu biblioteki scipy.stats:\n",
        "\n",
        "from scipy.stats import gamma\n",
        "\n",
        "shape=3\n",
        "scale=1/5\n",
        "\n",
        "gamma_samples = gamma.rvs(a=3, scale=scale, size=100) # probka rozm. 100\n",
        "x=np.linspace(0,5,200)\n",
        "\n",
        "gamma_pdf = gamma.pdf(x, a=shape, scale=scale)\n",
        "gamma_cdf = gamma.cdf(x, a=shape, scale=scale)\n",
        "\n",
        "plt.plot(x,gamma_pdf, label='pdf')\n",
        "plt.plot(x,gamma_cdf, label='cdf')\n",
        "plt.legend()\n",
        "plt.show()"
      ],
      "metadata": {
        "colab": {
          "base_uri": "https://localhost:8080/",
          "height": 430
        },
        "collapsed": true,
        "id": "3q1afY9eZj-E",
        "outputId": "a305347f-87c3-4b7e-fb19-2563d6dfe6dd"
      },
      "execution_count": 2,
      "outputs": [
        {
          "output_type": "display_data",
          "data": {
            "text/plain": [
              "<Figure size 640x480 with 1 Axes>"
            ],
            "image/png": "[encoded data removed]"
          },
          "metadata": {}
        }
      ]
    },
    {
      "cell_type": "code",
      "source": [],
      "metadata": {
        "id": "iRHEAEa7NZJ5"
      },
      "execution_count": null,
      "outputs": []
    }
  ],
  "metadata": {
    "colab": {
      "provenance": [],
      "include_colab_link": true
    },
    "language_info": {
      "name": "python"
    },
    "kernelspec": {
      "name": "python3",
      "display_name": "Python 3"
    }
  },
  "nbformat": 4,
  "nbformat_minor": 0
}