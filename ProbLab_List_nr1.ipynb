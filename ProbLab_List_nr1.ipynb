{
  "nbformat": 4,
  "nbformat_minor": 0,
  "metadata": {
    "colab": {
      "provenance": [],
      "authorship_tag": "ABX9TyMHvk4goKSZqZl2Routru1f",
      "include_colab_link": true
    },
    "kernelspec": {
      "name": "python3",
      "display_name": "Python 3"
    },
    "language_info": {
      "name": "python"
    }
  },
  "cells": [
    {
      "cell_type": "markdown",
      "metadata": {
        "id": "view-in-github",
        "colab_type": "text"
      },
      "source": [
        "<a href=\"https://colab.research.google.com/github/lorek/Probability_Course_Labs/blob/main/ProbLab_List_nr1.ipynb\" target=\"_parent\"><img src=\"https://colab.research.google.com/assets/colab-badge.svg\" alt=\"Open In Colab\"/></a>"
      ]
    },
    {
      "cell_type": "code",
      "execution_count": 167,
      "metadata": {
        "id": "IUTLwVsdPMRp"
      },
      "outputs": [],
      "source": [
        "import numpy as np\n",
        "import matplotlib.pyplot as plt"
      ]
    },
    {
      "cell_type": "markdown",
      "source": [
        "### NumPy: randomness"
      ],
      "metadata": {
        "id": "R4osrPHoPRgM"
      }
    },
    {
      "cell_type": "markdown",
      "source": [
        "Computers use Pseudorandom Number Generators (PRNG, aka *deterministic random data*), deterministic procedures outputting numbers which *should* \"look like random numbers\".\n",
        "PRNG depends on initial value called `seed`, which we can set:"
      ],
      "metadata": {
        "id": "drsUcUMrPh_D"
      }
    },
    {
      "cell_type": "code",
      "source": [
        "np.random.seed(0)\n",
        "np.random.uniform(0,1) # random uniformly chosen from interval [0,1].\n",
        "                       # Because of set seed, the result should be the same each time"
      ],
      "metadata": {
        "colab": {
          "base_uri": "https://localhost:8080/"
        },
        "id": "rNE0fjfcPUei",
        "outputId": "4de4cab2-eb4f-4b0b-9354-76a17f5d18ee"
      },
      "execution_count": 168,
      "outputs": [
        {
          "output_type": "execute_result",
          "data": {
            "text/plain": [
              "0.5488135039273248"
            ]
          },
          "metadata": {},
          "execution_count": 168
        }
      ]
    },
    {
      "cell_type": "code",
      "source": [
        "numbers = np.random.uniform(0,1,100) # 100 numbers"
      ],
      "metadata": {
        "id": "8FqxwtKcQKzP"
      },
      "execution_count": 169,
      "outputs": []
    },
    {
      "cell_type": "code",
      "source": [
        "print(numbers)"
      ],
      "metadata": {
        "colab": {
          "base_uri": "https://localhost:8080/"
        },
        "id": "9Awn4GpwQY60",
        "outputId": "8a815469-0f94-4080-c620-719a38075fb4"
      },
      "execution_count": 170,
      "outputs": [
        {
          "output_type": "stream",
          "name": "stdout",
          "text": [
            "[0.71518937 0.60276338 0.54488318 0.4236548  0.64589411 0.43758721\n",
            " 0.891773   0.96366276 0.38344152 0.79172504 0.52889492 0.56804456\n",
            " 0.92559664 0.07103606 0.0871293  0.0202184  0.83261985 0.77815675\n",
            " 0.87001215 0.97861834 0.79915856 0.46147936 0.78052918 0.11827443\n",
            " 0.63992102 0.14335329 0.94466892 0.52184832 0.41466194 0.26455561\n",
            " 0.77423369 0.45615033 0.56843395 0.0187898  0.6176355  0.61209572\n",
            " 0.616934   0.94374808 0.6818203  0.3595079  0.43703195 0.6976312\n",
            " 0.06022547 0.66676672 0.67063787 0.21038256 0.1289263  0.31542835\n",
            " 0.36371077 0.57019677 0.43860151 0.98837384 0.10204481 0.20887676\n",
            " 0.16130952 0.65310833 0.2532916  0.46631077 0.24442559 0.15896958\n",
            " 0.11037514 0.65632959 0.13818295 0.19658236 0.36872517 0.82099323\n",
            " 0.09710128 0.83794491 0.09609841 0.97645947 0.4686512  0.97676109\n",
            " 0.60484552 0.73926358 0.03918779 0.28280696 0.12019656 0.2961402\n",
            " 0.11872772 0.31798318 0.41426299 0.0641475  0.69247212 0.56660145\n",
            " 0.26538949 0.52324805 0.09394051 0.5759465  0.9292962  0.31856895\n",
            " 0.66741038 0.13179786 0.7163272  0.28940609 0.18319136 0.58651293\n",
            " 0.02010755 0.82894003 0.00469548 0.67781654]\n"
          ]
        }
      ]
    },
    {
      "cell_type": "code",
      "source": [
        "plt.figure(figsize=(10,1))\n",
        "plt.scatter(numbers, np.ones(len(numbers)),s=1) # s=1 -- size\n",
        "plt.title(str(len(numbers))+\" random U(0,1) numbers\")\n",
        "plt.show()"
      ],
      "metadata": {
        "colab": {
          "base_uri": "https://localhost:8080/",
          "height": 160
        },
        "id": "nHPBzWkLQaHU",
        "outputId": "04a8a0b8-4629-465a-f5a7-001bfe4555aa"
      },
      "execution_count": 171,
      "outputs": [
        {
          "output_type": "display_data",
          "data": {
            "text/plain": [
              "<Figure size 1000x100 with 1 Axes>"
            ],
            "image/png": "[encoded data removed]"
          },
          "metadata": {}
        }
      ]
    },
    {
      "cell_type": "code",
      "source": [
        "#2d numbers"
      ],
      "metadata": {
        "id": "0hvB8tSfFJ1D"
      },
      "execution_count": 172,
      "outputs": []
    },
    {
      "cell_type": "code",
      "source": [
        "x_rand = np.random.uniform(0,1,500)\n",
        "y_rand = np.random.uniform(0,1,500)\n",
        "\n",
        "plt.figure(figsize=(4,4))\n",
        "plt.scatter(x_rand, y_rand,s=1)\n"
      ],
      "metadata": {
        "colab": {
          "base_uri": "https://localhost:8080/",
          "height": 387
        },
        "id": "JjRm2zdaFMPv",
        "outputId": "0a1883ec-aa98-4b2e-f1b3-f33979c809f2"
      },
      "execution_count": 173,
      "outputs": [
        {
          "output_type": "execute_result",
          "data": {
            "text/plain": [
              "<matplotlib.collections.PathCollection at 0x7bb1967eb850>"
            ]
          },
          "metadata": {},
          "execution_count": 173
        },
        {
          "output_type": "display_data",
          "data": {
            "text/plain": [
              "<Figure size 400x400 with 1 Axes>"
            ],
            "image/png": "[encoded data removed]"
          },
          "metadata": {}
        }
      ]
    },
    {
      "cell_type": "markdown",
      "source": [
        "## Estimate $\\pi$\n",
        "\n",
        "A quarter of a circle: its area is $\\pi/4$.\n",
        "If we sample $R$ 2d points $(U_{1,1}, U_{1,2}), \\ldots, (U_{R,1}, U_{R,2})$,\n",
        "then the  the fraction within a circle (simple test: whether $U_{i,1}^2+U_{i,2}^2\\leq 1$ or not) times 4 is an estimtor of $\\pi$\n",
        "\n",
        "Btw (we will use it to plot) the quarter of the circle: $y=\\sqrt{1-x^2}, x\\in(0,1)$"
      ],
      "metadata": {
        "id": "YugMI4O4FtJf"
      }
    },
    {
      "cell_type": "code",
      "source": [
        "#estimate\n",
        "\n",
        "R=5000\n",
        "x_rand = np.random.uniform(0,1,R)\n",
        "y_rand = np.random.uniform(0,1,R)\n",
        "\n",
        "test = x_rand**2 + y_rand**2\n",
        "print(test[:5])\n",
        "\n",
        "estimate_pi=4*np.mean(test<=1) # np.mean([False, False, True, True]) = 0.5\n",
        "print(\"estimate_pi = \",estimate_pi)\n",
        "\n",
        "# plot\n",
        "\n",
        "x_in_circle = x_rand[test<=1]\n",
        "y_in_circle = y_rand[test<=1]\n",
        "\n",
        "x_out_circle = x_rand[test>1]\n",
        "y_out_circle = y_rand[test>1]\n",
        "\n",
        "\n",
        "plt.figure(figsize=(6,6))\n",
        "plt.scatter(x_in_circle, y_in_circle,s=1, label=\"in circle\",c=\"red\")\n",
        "plt.scatter(x_out_circle, y_out_circle,s=1, label=\"out of circle\",c=\"blue\")\n",
        "\n",
        "x_cir=np.linspace(0,1,100)\n",
        "y_cir=np.sqrt(1-x_cir**2)\n",
        "plt.plot(x_cir, y_cir, label=\"1/4 circle\",c=\"green\")\n",
        "\n",
        "plt.legend()\n"
      ],
      "metadata": {
        "colab": {
          "base_uri": "https://localhost:8080/",
          "height": 578
        },
        "id": "O4aO8F8bG-lC",
        "outputId": "6da27ae0-7248-46d1-c8ed-5a07f623366a"
      },
      "execution_count": 196,
      "outputs": [
        {
          "output_type": "stream",
          "name": "stdout",
          "text": [
            "[0.82858461 0.57680143 0.30317374 0.65406665 0.66372354]\n",
            "estimate_pi =  3.1744\n"
          ]
        },
        {
          "output_type": "execute_result",
          "data": {
            "text/plain": [
              "<matplotlib.legend.Legend at 0x7bb195e9cd30>"
            ]
          },
          "metadata": {},
          "execution_count": 196
        },
        {
          "output_type": "display_data",
          "data": {
            "text/plain": [
              "<Figure size 600x600 with 1 Axes>"
            ],
            "image/png": "[encoded data removed]"
          },
          "metadata": {}
        }
      ]
    },
    {
      "cell_type": "markdown",
      "source": [
        "### go back to 1d"
      ],
      "metadata": {
        "id": "ezXCK9DrG9lb"
      }
    },
    {
      "cell_type": "code",
      "source": [
        "numbers = np.random.uniform(0,1,100) # 100 numbers"
      ],
      "metadata": {
        "id": "bq20Eyd1GsYg"
      },
      "execution_count": 175,
      "outputs": []
    },
    {
      "cell_type": "markdown",
      "source": [
        "Many built-in distribions, e.g., discrete so-called geometric distribution\n",
        "\n",
        "$$X\\sim Geo(p) \\ \\textrm{with success prob }\\ p: \\qquad P(X=k)=(1-p)^{k-1}p, \\quad k=1,2,\\ldots,$$"
      ],
      "metadata": {
        "id": "X1zCvCyXK73K"
      }
    },
    {
      "cell_type": "code",
      "source": [
        "z=np.random.geometric(p=0.15, size=50000)\n",
        "print(z)\n",
        "print(z.shape)"
      ],
      "metadata": {
        "colab": {
          "base_uri": "https://localhost:8080/"
        },
        "id": "o5F5W01yJZJf",
        "outputId": "3ce61c8c-753d-4b9e-95b0-947c8de8d7b0"
      },
      "execution_count": 176,
      "outputs": [
        {
          "output_type": "stream",
          "name": "stdout",
          "text": [
            "[ 1 30  9 ...  5  1 27]\n",
            "(50000,)\n"
          ]
        }
      ]
    },
    {
      "cell_type": "markdown",
      "source": [
        "### histogram:\n",
        "* create bins: $[a_0, a_1], [a_2,a_3],....$\n",
        "* compute number of values within each bin $[a_{2k}, a_{2k+1}]$\n",
        "* using `np.histogram` -- we may provide bins all tell it to construct them automatically"
      ],
      "metadata": {
        "id": "MrkZGybcLLhf"
      }
    },
    {
      "cell_type": "code",
      "source": [
        "\n",
        "bin_edges = np.array([0,2,5,8,44,55]) # bins [0,1],[1,2],[2,5], [5,8], [8,44],[44,55]\n",
        "hist, _ = np.histogram(z, bins=bin_edges)\n",
        "print(hist,)"
      ],
      "metadata": {
        "colab": {
          "base_uri": "https://localhost:8080/"
        },
        "id": "25I2isgQLIES",
        "outputId": "d8705ee8-4a30-4aae-be9a-fd210656645b"
      },
      "execution_count": 177,
      "outputs": [
        {
          "output_type": "stream",
          "name": "stdout",
          "text": [
            "[ 7654 16230 10173 15894    43]\n"
          ]
        }
      ]
    },
    {
      "cell_type": "code",
      "source": [
        "plt.hist(z, bin_edges)"
      ],
      "metadata": {
        "colab": {
          "base_uri": "https://localhost:8080/",
          "height": 486
        },
        "id": "-CkrZaEuLwCB",
        "outputId": "4a133074-917e-4ab3-c9e2-0cdbb89dc032"
      },
      "execution_count": 178,
      "outputs": [
        {
          "output_type": "execute_result",
          "data": {
            "text/plain": [
              "(array([ 7654., 16230., 10173., 15894.,    43.]),\n",
              " array([ 0.,  2.,  5.,  8., 44., 55.]),\n",
              " <BarContainer object of 5 artists>)"
            ]
          },
          "metadata": {},
          "execution_count": 178
        },
        {
          "output_type": "display_data",
          "data": {
            "text/plain": [
              "<Figure size 640x480 with 1 Axes>"
            ],
            "image/png": "[encoded data removed]"
          },
          "metadata": {}
        }
      ]
    },
    {
      "cell_type": "code",
      "source": [
        "hist, bin_edges_auto = np.histogram(z)"
      ],
      "metadata": {
        "id": "dX9SHeSrMTy1"
      },
      "execution_count": 179,
      "outputs": []
    },
    {
      "cell_type": "code",
      "source": [
        "print(\"bin_edges_auto = \", bin_edges_auto)"
      ],
      "metadata": {
        "colab": {
          "base_uri": "https://localhost:8080/"
        },
        "id": "pDITsRMuM6ZU",
        "outputId": "ca4e34fb-2ce9-4cbb-81b7-bd105b8e4e90"
      },
      "execution_count": 180,
      "outputs": [
        {
          "output_type": "stream",
          "name": "stdout",
          "text": [
            "bin_edges_auto =  [ 1.   7.3 13.6 19.9 26.2 32.5 38.8 45.1 51.4 57.7 64. ]\n"
          ]
        }
      ]
    },
    {
      "cell_type": "code",
      "source": [
        "plt.hist(z, bin_edges_auto)"
      ],
      "metadata": {
        "colab": {
          "base_uri": "https://localhost:8080/",
          "height": 504
        },
        "id": "EmJ5O1JlM-U7",
        "outputId": "8516814d-3369-4d2f-99a4-3c4b0681e865"
      },
      "execution_count": 181,
      "outputs": [
        {
          "output_type": "execute_result",
          "data": {
            "text/plain": [
              "(array([3.4057e+04, 9.9680e+03, 3.7320e+03, 1.5260e+03, 4.5600e+02,\n",
              "        1.6300e+02, 5.8000e+01, 2.3000e+01, 1.1000e+01, 6.0000e+00]),\n",
              " array([ 1. ,  7.3, 13.6, 19.9, 26.2, 32.5, 38.8, 45.1, 51.4, 57.7, 64. ]),\n",
              " <BarContainer object of 10 artists>)"
            ]
          },
          "metadata": {},
          "execution_count": 181
        },
        {
          "output_type": "display_data",
          "data": {
            "text/plain": [
              "<Figure size 640x480 with 1 Axes>"
            ],
            "image/png": "[encoded data removed]"
          },
          "metadata": {}
        }
      ]
    },
    {
      "cell_type": "code",
      "source": [
        "hist, bin_edges_auto = np.histogram(z, bins=30) # if bins=nr, then auto but nr bins\n",
        "plt.hist(z, bin_edges_auto)"
      ],
      "metadata": {
        "colab": {
          "base_uri": "https://localhost:8080/",
          "height": 615
        },
        "id": "YZ3Z-H4HTZ1H",
        "outputId": "c7f5955c-5626-45d6-ed8f-8cd725cb36ed"
      },
      "execution_count": 182,
      "outputs": [
        {
          "output_type": "execute_result",
          "data": {
            "text/plain": [
              "(array([1.9306e+04, 8.5380e+03, 6.2130e+03, 4.4010e+03, 3.2190e+03,\n",
              "        2.3480e+03, 1.6430e+03, 1.2450e+03, 8.4400e+02, 6.1900e+02,\n",
              "        6.3000e+02, 2.7700e+02, 2.0900e+02, 1.4900e+02, 9.8000e+01,\n",
              "        7.7000e+01, 4.7000e+01, 3.9000e+01, 2.7000e+01, 1.6000e+01,\n",
              "        1.5000e+01, 1.0000e+01, 7.0000e+00, 6.0000e+00, 5.0000e+00,\n",
              "        6.0000e+00, 0.0000e+00, 2.0000e+00, 1.0000e+00, 3.0000e+00]),\n",
              " array([ 1. ,  3.1,  5.2,  7.3,  9.4, 11.5, 13.6, 15.7, 17.8, 19.9, 22. ,\n",
              "        24.1, 26.2, 28.3, 30.4, 32.5, 34.6, 36.7, 38.8, 40.9, 43. , 45.1,\n",
              "        47.2, 49.3, 51.4, 53.5, 55.6, 57.7, 59.8, 61.9, 64. ]),\n",
              " <BarContainer object of 30 artists>)"
            ]
          },
          "metadata": {},
          "execution_count": 182
        },
        {
          "output_type": "display_data",
          "data": {
            "text/plain": [
              "<Figure size 640x480 with 1 Axes>"
            ],
            "image/png": "[encoded data removed]"
          },
          "metadata": {}
        }
      ]
    },
    {
      "cell_type": "code",
      "source": [
        "# frequency histogram\n",
        "hist, bin_edges_auto = np.histogram(z, bins=30, density=True)\n",
        "_=plt.hist(z, bin_edges_auto, density=True)"
      ],
      "metadata": {
        "colab": {
          "base_uri": "https://localhost:8080/",
          "height": 430
        },
        "id": "-n5vRuSjNE4c",
        "outputId": "1a0157e4-f9b3-42c5-eb94-8a323c649841"
      },
      "execution_count": 183,
      "outputs": [
        {
          "output_type": "display_data",
          "data": {
            "text/plain": [
              "<Figure size 640x480 with 1 Axes>"
            ],
            "image/png": "[encoded data removed]"
          },
          "metadata": {}
        }
      ]
    },
    {
      "cell_type": "markdown",
      "source": [
        "### Own discrete distribution\n"
      ],
      "metadata": {
        "id": "Y1LdoB0QNqLS"
      }
    },
    {
      "cell_type": "markdown",
      "source": [
        "### Flip a coin with head (nr 1) probability $p$ and tail (nr 0) prob $1-p$\n",
        "trick:"
      ],
      "metadata": {
        "id": "rOSVVldjNv5B"
      }
    },
    {
      "cell_type": "code",
      "source": [
        "p=0.24\n",
        "u=np.random.uniform(0,1,100)\n",
        "\n",
        "coins = (u<=p)*1\n",
        "print(\"coins = \", coins)\n"
      ],
      "metadata": {
        "colab": {
          "base_uri": "https://localhost:8080/"
        },
        "id": "fQp04tLQN5eU",
        "outputId": "f830e3cb-9feb-4d24-eecf-31632c93b07b"
      },
      "execution_count": 184,
      "outputs": [
        {
          "output_type": "stream",
          "name": "stdout",
          "text": [
            "coins =  [0 0 0 0 0 0 0 0 0 1 1 1 1 0 0 0 0 0 0 0 0 1 1 0 0 0 0 0 0 0 1 0 0 0 1 0 0\n",
            " 0 1 0 0 0 0 0 0 0 0 0 0 0 0 0 1 1 1 0 0 0 0 0 0 1 1 1 1 0 0 1 1 1 0 0 0 0\n",
            " 0 0 0 0 1 0 0 1 0 0 0 0 0 0 1 0 0 0 0 1 0 0 1 0 0 0]\n"
          ]
        }
      ]
    },
    {
      "cell_type": "markdown",
      "source": [
        "### General distribution.\n",
        "\n",
        "E.g., $$P(X=-3)=0.2,\\quad P(X=0)=0.3,\\quad P(X=7)=0.1, \\quad P(X=9)=0.4$$"
      ],
      "metadata": {
        "id": "n3ilfdeuOO4h"
      }
    },
    {
      "cell_type": "code",
      "source": [
        "elements=np.array([-3,0,7,9])\n",
        "probs = np.array([0.2, 0.3, 0.1, 0.4])\n",
        "n=200\n",
        "x=np.random.choice(elements, size=n, p=probs)\n",
        "\n",
        "print(x)\n",
        "print(np.mean(x))"
      ],
      "metadata": {
        "colab": {
          "base_uri": "https://localhost:8080/"
        },
        "id": "cPxEr3s-NUIa",
        "outputId": "898b8991-16e7-450d-abe9-cf2087ca6e6d"
      },
      "execution_count": 185,
      "outputs": [
        {
          "output_type": "stream",
          "name": "stdout",
          "text": [
            "[-3  7  0  0  0  0  9 -3 -3  9  0  9  9  9  0  0  0  0  9  0  7 -3 -3 -3\n",
            "  9  0 -3 -3  9 -3  9  0  9  0  9  9  0  0  0  7  7  9 -3  0  0  9 -3  9\n",
            "  0  9  0  7 -3 -3  0  0  9  9  9 -3  9  9  9  9  9  9  0  0  0 -3  9  9\n",
            "  0  9  0  0  0 -3  0 -3 -3 -3  0  9  0 -3  9  9 -3 -3 -3  0  7 -3  7  0\n",
            " -3  9  9 -3  9  9  9 -3  0 -3  9  0  0  9  9  7  9  9  0  7  9  9  0  9\n",
            "  9  9  7 -3 -3  7  9  7  9  0  9  9  0 -3  9  9  0  9  7  9 -3  9  0  9\n",
            " -3  9  7  9 -3  7  0 -3  9  9  7 -3  9 -3 -3  9  0  0  9  9  0  9  9  0\n",
            "  7 -3  9  7  0  9  0  0  9  9  9  9  0 -3  9 -3  0 -3  0  0  0  7  9  0\n",
            " -3 -3  0  7  9 -3 -3  9]\n",
            "3.43\n"
          ]
        }
      ]
    },
    {
      "cell_type": "markdown",
      "source": [
        "$x_1,x_2,\\ldots, x_n$. Two foundamental measures:\n",
        "\n",
        "Sample mean and variance $$\\hat{x}_n = {1\\over n} \\sum_{i=1}^n x_i, \\quad s^2_n={1\\over n-1} \\sum_{i=1}^n (x_i-\\hat{x}_n)^2$$"
      ],
      "metadata": {
        "id": "uvZlNpG3O5Ba"
      }
    },
    {
      "cell_type": "code",
      "source": [
        "x_hat = np.mean(x)\n",
        "\n",
        "#s^2 built in\n",
        "x_s2 = np.var(x,ddof=1)\n",
        "\n",
        "#s^2 manually\n",
        "x_s2_ver2= np.sum( (x-x_hat)**2)/(len(x)-1)\n",
        "\n",
        "print(x_hat, x_s2, x_s2_ver2)"
      ],
      "metadata": {
        "colab": {
          "base_uri": "https://localhost:8080/"
        },
        "id": "SYBDGb5QOtVs",
        "outputId": "644d68c8-f810-4f2d-997f-abbd1770cd82"
      },
      "execution_count": 186,
      "outputs": [
        {
          "output_type": "stream",
          "name": "stdout",
          "text": [
            "3.43 26.1156783919598 26.1156783919598\n"
          ]
        }
      ]
    },
    {
      "cell_type": "markdown",
      "source": [
        "# Standard normalization"
      ],
      "metadata": {
        "id": "zOiVcYtfQRLs"
      }
    },
    {
      "cell_type": "markdown",
      "source": [
        "$$x_i' = {x_i-\\hat{x}\\over \\sqrt{s^2}}$$"
      ],
      "metadata": {
        "id": "o8V8qqESQTaE"
      }
    },
    {
      "cell_type": "code",
      "source": [
        "xp=(x-x_hat)/np.sqrt(x_s2)"
      ],
      "metadata": {
        "id": "MRT-xcALP6aX"
      },
      "execution_count": 187,
      "outputs": []
    },
    {
      "cell_type": "code",
      "source": [],
      "metadata": {
        "id": "C_9qTOC8RpDI"
      },
      "execution_count": 187,
      "outputs": []
    },
    {
      "cell_type": "markdown",
      "source": [
        "rescaled points have mean 0 and s2 = 1"
      ],
      "metadata": {
        "id": "xb6kHqrmRpw3"
      }
    },
    {
      "cell_type": "code",
      "source": [
        "print(np.round(np.mean(xp),3), np.var(xp,ddof=1))"
      ],
      "metadata": {
        "colab": {
          "base_uri": "https://localhost:8080/"
        },
        "id": "afrq_4Q1Rfsu",
        "outputId": "f4c7a3bb-8762-47d8-fa54-b6049321702e"
      },
      "execution_count": 188,
      "outputs": [
        {
          "output_type": "stream",
          "name": "stdout",
          "text": [
            "0.0 0.9999999999999997\n"
          ]
        }
      ]
    },
    {
      "cell_type": "code",
      "source": [],
      "metadata": {
        "id": "6dg1ZuCaU9Qv"
      },
      "execution_count": 188,
      "outputs": []
    },
    {
      "cell_type": "markdown",
      "source": [
        "# Histograms of normalized sums\n"
      ],
      "metadata": {
        "id": "gM1gA74xU9yD"
      }
    },
    {
      "cell_type": "markdown",
      "source": [
        "Now we perform the following experiment.\n",
        "* Fix `n` (e.g., 1000) and `R` (e.g., 3000)\n",
        "* Repeat `R` times `for i in np.arange(R)`:\n",
        "** sample x_1,....,x_n\n",
        "** compute sum of sample and store it as $z_i= \\sum_{i=1}^n x_i$\n",
        "* Finally we have `z_1, z_2,..,z_R` we normalize them as previously, i.e., $z_i'={z_i-\\hat{z}\\over s^2}$ and plot their histogram\n"
      ],
      "metadata": {
        "id": "CZlDHs56R_hV"
      }
    },
    {
      "cell_type": "code",
      "source": [
        "elements=np.array([-5,-4,-2, 0, 1, 3, 7, 9])\n",
        "probs = np.array([0.13, 0.13, 0.11, 0.37, 0.03, 0.1, 0.09,0.04])\n",
        "print(np.sum(probs))"
      ],
      "metadata": {
        "colab": {
          "base_uri": "https://localhost:8080/"
        },
        "id": "QhfRgAxpQgY_",
        "outputId": "6bdf2936-4d17-4a19-a579-ecdc6d3749dd"
      },
      "execution_count": 189,
      "outputs": [
        {
          "output_type": "stream",
          "name": "stdout",
          "text": [
            "1.0\n"
          ]
        }
      ]
    },
    {
      "cell_type": "code",
      "source": [
        "n=1000\n",
        "R=3000\n",
        "\n",
        "z=[] # empty list\n",
        "\n",
        "for i in range(R):\n",
        "    x = np.random.choice(elements, size=n, p=probs)\n",
        "    x_hat = np.sum(x)\n",
        "    z.append(x_hat)\n",
        "\n",
        "z=np.array(z)\n",
        "\n",
        "# now we NORMALIZE z\n",
        "z_hat = np.mean(z)\n",
        "\n",
        "#s^2\n",
        "z_s2 = np.var(z,ddof=1)\n",
        "\n",
        "zp = (z-z_hat)/np.sqrt(z_s2)\n",
        "\n",
        "print(np.round(np.mean(zp),3), np.var(zp,ddof=1))"
      ],
      "metadata": {
        "colab": {
          "base_uri": "https://localhost:8080/"
        },
        "id": "JuPtC0PkWObR",
        "outputId": "6a40b786-edea-43f8-8061-8783bfe6cb49"
      },
      "execution_count": 190,
      "outputs": [
        {
          "output_type": "stream",
          "name": "stdout",
          "text": [
            "-0.0 1.0\n"
          ]
        }
      ]
    },
    {
      "cell_type": "markdown",
      "source": [
        "plot histogram together with function\n",
        "$$f(x)={1\\over \\sqrt{2\\pi}} e^{-{x^2\\over 2}}$$"
      ],
      "metadata": {
        "id": "lhTXzim_YT6o"
      }
    },
    {
      "cell_type": "code",
      "source": [
        "_=plt.hist(zp,bins=20, density=True, label=\"hist\")\n",
        "\n",
        "xx=np.linspace(-4,4,100)\n",
        "yy=np.exp(-xx**2/2)/np.sqrt(2*np.pi)\n",
        "\n",
        "plt.plot(xx,yy,label=\"f\")\n",
        "plt.legend()\n",
        "plt.show()"
      ],
      "metadata": {
        "colab": {
          "base_uri": "https://localhost:8080/",
          "height": 430
        },
        "id": "8h-J0m5gXHDF",
        "outputId": "8eb4e4d7-94a1-4dfd-8559-1a32cf6c3629"
      },
      "execution_count": 191,
      "outputs": [
        {
          "output_type": "display_data",
          "data": {
            "text/plain": [
              "<Figure size 640x480 with 1 Axes>"
            ],
            "image/png": "[encoded data removed]"
          },
          "metadata": {}
        }
      ]
    },
    {
      "cell_type": "code",
      "source": [],
      "metadata": {
        "id": "2Df6FN2mh2xE"
      },
      "execution_count": 191,
      "outputs": []
    },
    {
      "cell_type": "markdown",
      "source": [
        "# QUESTIONS / EXERCISES"
      ],
      "metadata": {
        "id": "43cN8RjinZv2"
      }
    },
    {
      "cell_type": "markdown",
      "source": [
        "## Q1.1\n",
        "* Reapeat estimation of $\\pi$ using `R=[10000, 20000,50000]` replications. Print the absolute difference of estimation and true value of $\\pi$ (use `np.pi`)"
      ],
      "metadata": {
        "id": "ofq_0vgaoIf6"
      }
    },
    {
      "cell_type": "code",
      "source": [],
      "metadata": {
        "id": "mkIvRJCCpLk3"
      },
      "execution_count": null,
      "outputs": []
    },
    {
      "cell_type": "markdown",
      "source": [
        "## Q1.2\n",
        "* Estimate $\\int_0^\\pi \\sin(x)\\;dx$ in a similar fashion to estimation of $\\pi$. Sample $R$ 2d points from a rectangle $[0,\\pi]\\times[0,1]$ and compute fraction below $y=\\sin(x)$.\n",
        "* Repeat for different $R$, compate to true value of the integral"
      ],
      "metadata": {
        "id": "kUl4EDGWofuB"
      }
    },
    {
      "cell_type": "code",
      "source": [],
      "metadata": {
        "id": "98nwM7zvpM_m"
      },
      "execution_count": null,
      "outputs": []
    },
    {
      "cell_type": "markdown",
      "source": [
        "## Q1.3"
      ],
      "metadata": {
        "id": "J_GHeRJRpNg-"
      }
    },
    {
      "cell_type": "code",
      "source": [
        "elementsA=np.array([-15,-5, 2, 17])\n",
        "probsA = np.array([0.21, 0.11, 0.29, 0.39])\n",
        "\n",
        "# fair coin\n",
        "elementsA=np.array([0,1])\n",
        "\n",
        "# 10 samples from Poisson distribution with parameter lambda=3\n",
        "np.random.poisson(3,size=10)\n"
      ],
      "metadata": {
        "colab": {
          "base_uri": "https://localhost:8080/"
        },
        "id": "y-A5zGvBpX31",
        "outputId": "4177a055-3875-413f-b5e2-612446eaf77d"
      },
      "execution_count": 205,
      "outputs": [
        {
          "output_type": "execute_result",
          "data": {
            "text/plain": [
              "array([3, 2, 5, 3, 6, 3, 3, 4, 2, 2])"
            ]
          },
          "metadata": {},
          "execution_count": 205
        }
      ]
    },
    {
      "cell_type": "markdown",
      "source": [
        "* a) sample from  `elementsA`, `probsA`, plot histogram\n",
        "* b) repeat the procedure \"*Histograms of normalized sums*\" for `elementsA`, `probsA`\n",
        "* c) repeat above two steps for `elementsB`, `probsB`\n",
        "* d) sample $n=20000$ points from Poisson distr. with parameter lambda=10, make histogram with 25 bins\n",
        "* e) repeat the procedure \"*Histograms of normalized sums*\" for Poisson distribution.\n",
        "\n",
        "What conclusion can you make for \"*Histograms of normalized sums*\" ?"
      ],
      "metadata": {
        "id": "8pUu-WyJp1uF"
      }
    },
    {
      "cell_type": "code",
      "source": [],
      "metadata": {
        "id": "M2wGYnMmrnmw"
      },
      "execution_count": null,
      "outputs": []
    },
    {
      "cell_type": "markdown",
      "source": [
        "## Q1.4\n",
        "\n",
        "* Read about  [Monte Hall Problem](https://en.wikipedia.org/wiki/Monty_Hall_problem). Simulate the game show 10k times and estimate the probabilities of winning in using two strategies:\n",
        "** do not change intially chosen door\n",
        "** always change intially chosen door"
      ],
      "metadata": {
        "id": "pVA2xYdipK_u"
      }
    },
    {
      "cell_type": "code",
      "source": [],
      "metadata": {
        "id": "iZLZiopynb-L"
      },
      "execution_count": null,
      "outputs": []
    }
  ]
}