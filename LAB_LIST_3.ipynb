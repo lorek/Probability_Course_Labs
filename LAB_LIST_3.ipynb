{
  "nbformat": 4,
  "nbformat_minor": 0,
  "metadata": {
    "colab": {
      "provenance": [],
      "authorship_tag": "ABX9TyNpHBpcaxfv/IyIr3uBSe7S",
      "include_colab_link": true
    },
    "kernelspec": {
      "name": "python3",
      "display_name": "Python 3"
    },
    "language_info": {
      "name": "python"
    }
  },
  "cells": [
    {
      "cell_type": "markdown",
      "metadata": {
        "id": "view-in-github",
        "colab_type": "text"
      },
      "source": [
        "<a href=\"https://colab.research.google.com/github/lorek/Probability_Course_Labs/blob/main/LAB_LIST_3.ipynb\" target=\"_parent\"><img src=\"https://colab.research.google.com/assets/colab-badge.svg\" alt=\"Open In Colab\"/></a>"
      ]
    },
    {
      "cell_type": "markdown",
      "source": [
        "(Click above to open the notebook in Google Colab. Then save it to your Google Drive)"
      ],
      "metadata": {
        "id": "3ugrNHWwCNUx"
      }
    },
    {
      "cell_type": "markdown",
      "source": [
        "# Laboratorium z rachunku prawdopodobieństwa\n",
        "# Lista 3"
      ],
      "metadata": {
        "id": "ljxDn5XbMHFG"
      }
    },
    {
      "cell_type": "markdown",
      "source": [
        "#Rozgrzewka: paradoks Bertranda\n",
        "\n",
        "W trzech jednakowych pudełkach schowane są po dwie monety: w jednym dwie złote, w drugim dwie srebrne, a w trzecim jedna złota i jedna srebrna. Losujemy jedno z pudełek, a z niego losujemy jedną monetę.\n",
        "\n",
        "* *Pytanie 1* : Załóżmy, że wylosowana została złota moneta. Jakie jest prawdopodobieństwo tego, że druga moneta w tym samym pudełku jest złota?\n",
        "\n",
        "* *Odpowiedź naiwna*: skoro pierwsza wyciągnięta moneta była złota, to losowaliśmy albo z pierwszego pudełka (z dwiema złotymi monetami), albo z trzeciego (ze złotą i srebrną). W pierwszym przypadku druga moneta\n",
        "będzie na pewno złota, a w drugim - na pewno srebrna. Ponieważ prawdopodobieństwa wybrania pierwszego i trzeciego pudełka są jednakowe, to prawdopodobieństwo wyciągnięcia drugiej złotej monety wynosi 1/2.\n",
        "\n",
        "* *Odpowiedź praktyczna*: definiujemy listę zawierającą trzy wektory, z których każdy oznacza jedno pudełko.\n",
        "\n",
        "Litery `Z` i `S` oznaczają odpowiednio złotą i srebrną monetę."
      ],
      "metadata": {
        "id": "4WyRhH8mCKTS"
      }
    },
    {
      "cell_type": "code",
      "source": [
        "pudelka = [[\"Z\", \"Z\"], [\"S\", \"S\"], [\"Z\", \"S\"]]"
      ],
      "metadata": {
        "id": "vg7EW0xlCq-f"
      },
      "execution_count": 60,
      "outputs": []
    },
    {
      "cell_type": "markdown",
      "source": [
        "Symulujemy dziesięć tysięcy losowań w następujący sposób: najpierw losujemy dziesięć tysięcy numerów pudełek, a następnie w wynikowym `wyniki_losowan` wpisujesmy (jako wiersz) monety z wylosowanego pudełka. Następnie każdy wiersz losowo pormutujemy -- odpowiada to wyciąganiu monet w losowy sposób (pierwszą kolumnę będziemy traktowali jako wynik losowania pierwszej monety, drugą jako drugiej)"
      ],
      "metadata": {
        "id": "iYt5ULs5CMoV"
      }
    },
    {
      "cell_type": "code",
      "source": [
        "import numpy as np\n",
        "\n",
        "N = 10000\n",
        "pudelka = np.array([[\"Z\", \"Z\"], [\"S\", \"S\"], [\"Z\", \"S\"]])\n",
        "numer_pudelka = np.random.choice([0, 1, 2], N)  # Losujemy numery pudełek\n",
        "\n",
        "\n",
        "wyniki_losowan = pudelka[numer_pudelka]\n",
        "\n",
        "for row in wyniki_losowan:\n",
        "    np.random.shuffle(row)\n",
        "\n",
        "print(type(wyniki_losowan))\n",
        "print(wyniki_losowan[:10])  # Wyświetla 10 pierwszych wylosowanych monet\n",
        ""
      ],
      "metadata": {
        "colab": {
          "base_uri": "https://localhost:8080/"
        },
        "id": "YawzIPeCCuWx",
        "outputId": "a92f7753-7d4a-44ce-f895-79f3c565c1eb"
      },
      "execution_count": 62,
      "outputs": [
        {
          "output_type": "stream",
          "name": "stdout",
          "text": [
            "<class 'numpy.ndarray'>\n",
            "[['Z' 'Z']\n",
            " ['Z' 'Z']\n",
            " ['S' 'S']\n",
            " ['S' 'S']\n",
            " ['Z' 'S']\n",
            " ['S' 'S']\n",
            " ['S' 'S']\n",
            " ['Z' 'S']\n",
            " ['Z' 'Z']\n",
            " ['Z' 'Z']]\n"
          ]
        }
      ]
    },
    {
      "cell_type": "markdown",
      "source": [
        "Zmienna `wylosowane_monety` jest macierzą rozmiaru $N\\times 2$.   Spośród wszystkich losowań wybieramy tylko te, w których jako pierwsza została wyciągnięta złota moneta. Zliczamy wśród nich wystąpienia złotej monety jako drugiej."
      ],
      "metadata": {
        "id": "fMJaHmFGE-aw"
      }
    },
    {
      "cell_type": "code",
      "source": [
        "results = wyniki_losowan[wyniki_losowan[:, 0] == 'Z']\n",
        "czestosc_zlotych = len(results[results[:,1] == 'Z'])/len(results)\n",
        "print(\"czestosc_zlotych = \", czestosc_zlotych)\n",
        "\n",
        ""
      ],
      "metadata": {
        "colab": {
          "base_uri": "https://localhost:8080/"
        },
        "id": "BZnJvvMkGXV3",
        "outputId": "9c1329ca-e124-4d70-f1d4-1e3d3ffa2893"
      },
      "execution_count": 63,
      "outputs": [
        {
          "output_type": "stream",
          "name": "stdout",
          "text": [
            "czestosc_zlotych =  0.6703910614525139\n"
          ]
        }
      ]
    },
    {
      "cell_type": "markdown",
      "source": [
        "*Pytanie 2* : wyniki symulacji sugerują, że prawdopodobieństwo wylosowania drugiej złotej monety (pod warunkiem, że pierwsza była złota) wynosi ${2\\over 3}$. Czy umiesz wyjaśnić ten wynik?"
      ],
      "metadata": {
        "id": "5mFyQkg9NNBZ"
      }
    },
    {
      "cell_type": "markdown",
      "source": [
        "# Ćwiczenie: paradoks Monty’ego Halla"
      ],
      "metadata": {
        "id": "GMMqA-eqNSxR"
      }
    },
    {
      "cell_type": "markdown",
      "source": [
        "W pewnym teleturnieju prowadzący pokazuje uczestnikowi trzy jednakowe bramki. Uczestnik może otworzyć jedną z nich i w ten sposób wygrać znajdującą się za nią nagrodę. Wiadomo, że za jedną z bramek znajduje się samochód (tylko prowadzący program wie, za którą), a pozostałe dwie są puste. Kiedy uczestnik wybierze numer bramki, którą chce otworzyć, prowadzący otwiera jedną z pozostałych - pustą - bramkę. Następnie pyta uczestnika, czy chce pozostać przy swoim wyborze, czy woli go zmienić.\n",
        "\n",
        "* *Pytanie 1*: Kiedy uczestnik programu ma większą szansę na wygranie samochodu: otwierając bramkę, którą wzkazał na początku, czy zmieniając decyzję?\n",
        "\n",
        "* *Pytanie 2* : Jakie jest prawdopodobieństwo wygranej pod warunkiem, że uczestnik początkowo wybrał bramkę nr 1, prowadzący otworzył bramkę nr 3, a uczestnik ostatecznie zdecydował się na bramkę nr 2?"
      ],
      "metadata": {
        "id": "QoIS8G0ZNWFm"
      }
    },
    {
      "cell_type": "markdown",
      "source": [
        "# Zadanie: testujemy się w kierunku choroby"
      ],
      "metadata": {
        "id": "pnxrIig7NgQm"
      }
    },
    {
      "cell_type": "markdown",
      "source": [
        "Załóżmy, że test medyczny stwierdza chorobę u 92% osób, które są chore, i prawidłowo nie stwierdza choroby u 94% osób, które są zdrowe (tzn. stwierdza chorobę u 6% zdrowych osób). Załóżmy, że 10% populacji choruje na tę chorobę.\n",
        "\n",
        "* *Pytanie 1*. Jakie jest prawdopodobieństwo, że u losowo wybranej osoby test wykaże chorobę?\n",
        "\n",
        "* *Pytanie 2*. Załóżmy, że u losowo wybranej osoby test wykazał chorobę. Jakie jest prawdopodobieństwo, że ta osoba jest faktycznie chora?\n",
        "\n",
        "Porównaj wyniki otrzymane teoretycznie i drogą symulacji."
      ],
      "metadata": {
        "id": "TraMBw3gNjPg"
      }
    },
    {
      "cell_type": "code",
      "source": [],
      "metadata": {
        "id": "dtWD-s_zEyWq"
      },
      "execution_count": null,
      "outputs": []
    }
  ]
}