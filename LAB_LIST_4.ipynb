{
  "nbformat": 4,
  "nbformat_minor": 0,
  "metadata": {
    "colab": {
      "provenance": [],
      "authorship_tag": "ABX9TyNRWRVRDoji2GIReoXVhHko",
      "include_colab_link": true
    },
    "kernelspec": {
      "name": "python3",
      "display_name": "Python 3"
    },
    "language_info": {
      "name": "python"
    }
  },
  "cells": [
    {
      "cell_type": "markdown",
      "metadata": {
        "id": "view-in-github",
        "colab_type": "text"
      },
      "source": [
        "<a href=\"https://colab.research.google.com/github/lorek/Probability_Course_Labs/blob/main/LAB_LIST_4.ipynb\" target=\"_parent\"><img src=\"https://colab.research.google.com/assets/colab-badge.svg\" alt=\"Open In Colab\"/></a>"
      ]
    },
    {
      "cell_type": "markdown",
      "source": [
        "(Click above to open the notebook in Google Colab. Then save it to your Google Drive)"
      ],
      "metadata": {
        "id": "3ugrNHWwCNUx"
      }
    },
    {
      "cell_type": "markdown",
      "source": [
        "# Laboratorium z rachunku prawdopodobieństwa\n",
        "# Lista 4"
      ],
      "metadata": {
        "id": "ljxDn5XbMHFG"
      }
    },
    {
      "cell_type": "markdown",
      "source": [
        "#Rozgrzewka: konsekwentny hazardzista\n",
        "\n",
        "Pewien gracz codziennie przychodzi do kasyna, za każdym razem z kwotą 1000 dolarów. Gra on w ruletkę, w każdej rozgrywce obstawiając 100 dolarów na czarne. W ten sposób z prawdopodobieństwem ${1\\over 2}$ wygrywa kolejne 100 dolarów i z prawdopodobieństwem ${1\\over 2}$ traci obstawioną kwotę. Gracz uczestniczy w 100 kolejnych rozgrywkach, chyba, że wcześniej straci wszystkie pieniądze - wtedy kończy grę.\n",
        "\n",
        "* *Pytanie 1:*  Jak często zdarza się, że gracz przegrywa wszystkie pieniądze?\n",
        "* *Pytanie 2:*   Jak często zdarza się, że gracz, wychodząc z kasyna, ma co najmniej 2000 dolarów?\n",
        "* *Pytanie 3:* Jaka jest średnia kwota, z jaką gracz opuszcza kasyno?\n",
        "\n",
        "* *Odpowiedź praktyczna*: przeprowadzimy symulacje tysiąca pobytów gracza w kasynie. Dla każdego pobytu wyznaczymy ciąg kwot, jakimi gracz dysponuje po kolejnych rozgrywkach. Zrobimy to na dwa sposoby.\n"
      ],
      "metadata": {
        "id": "4WyRhH8mCKTS"
      }
    },
    {
      "cell_type": "markdown",
      "source": [
        "# Sposób pierwszy: ciągi z wieloma zerami na końcu\n",
        "\n",
        "Ponieważ wiemy, że hazardzista nigdy nie uczestniczy w więcej niż stu rozgrywkach, możemy zakładać, że\n",
        "uczestniczy on zawsze w dokładnie stu rozgrywkach, ale kapitał nie zmienia się po pierwszym osiągnięciu\n",
        "zera. Będziemy więc tworzyć ciągi stuelementowe, które mogą być zakończone wieloma zerami. W tym celu\n",
        "wykonamy następujące trzy kroki:\n",
        "1. Nie przejmując się tym, czy gracz faktycznie uczestniczy w stu rozgrywkach, losujemy ich wyniki\n",
        "(wygrana / przegrana).\n",
        "2. Przekształcamy każdy z tych wyników na wygraną kwotę: wygraną na 100, a przegraną na −100, a\n",
        "następnie wyznaczamy kapitał gracza po kolejnych rozgrywkach.\n",
        "3. Dla każdego pobytu w kasynie sprawdzamy, czy kapitał gracza osiągnął w którymś momencie zero.\n",
        "Jeśli tak, to wszystkie wartości do końca pobytu w kasynie zamieniamy na zero."
      ],
      "metadata": {
        "id": "8X-LI-UOvqDY"
      }
    },
    {
      "cell_type": "code",
      "source": [
        "import numpy as np\n",
        "\n",
        "# Ustawienia początkowe\n",
        "kapital_poczatkowy = 1000\n",
        "liczba_rozgrywek = 100\n",
        "liczba_wizyt = 1000\n",
        "\n",
        "# Losujemy wyniki wszystkich rozgrywek podczas wszystkich pobytów w kasynie\n",
        "wyniki_rozgrywek = np.random.binomial(1, 0.5, liczba_wizyt * liczba_rozgrywek)\n",
        "\n",
        "# Tworzymy tabelę wyników rozgrywek: jedna kolumna to jedna wizyta w kasynie\n",
        "tabela_wynikow = wyniki_rozgrywek.reshape((liczba_rozgrywek, liczba_wizyt))\n",
        "\n",
        "# Zamieniamy zera na -100 i jedynki na 100\n",
        "tabela_wygranych = 200 * tabela_wynikow - 100\n",
        "\n",
        "# Tworzymy ciąg hipotetycznych kapitałów gracza, gdyby mógł grać na kredyt (z ujemnym kapitałem)\n",
        "tabela_hipotetycznych_kapitalow = np.cumsum(tabela_wygranych, axis=0) + kapital_poczatkowy\n",
        "\n"
      ],
      "metadata": {
        "id": "suuZ3BI97jg2"
      },
      "execution_count": 14,
      "outputs": []
    },
    {
      "cell_type": "markdown",
      "source": [
        "Po pierwszym spadku do zera kapitał gracza pozostaje zerem już do końca pobytu w kasynie. Tworzymy funkcję, która dla każdej wizyty w kasynie znajduje pierwszy moment, w którym kapitał spadł do zera (o ile\n",
        "taki moment istnieje) i wszystkie kolejne wartości zastępuje zerami."
      ],
      "metadata": {
        "id": "fdoHqFDNwgYu"
      }
    },
    {
      "cell_type": "code",
      "source": [
        "# Definiujemy funkcję, która zamienia wszystkie wartości po pierwszym zerze (włącznie) na zera\n",
        "def zamien_na_zera(kapitaly):\n",
        "    gdzie_zera = np.where(kapitaly <= 0)[0]\n",
        "    if gdzie_zera.size > 0:\n",
        "        pierwsze_zero = gdzie_zera[0]\n",
        "        kapitaly[pierwsze_zero:] = 0\n",
        "    return kapitaly\n",
        "\n",
        "# Aplikujemy funkcję na każdej kolumnie tabeli hipotetycznych kapitałów\n",
        "tabela_kapitalow = np.apply_along_axis(zamien_na_zera, 0, tabela_hipotetycznych_kapitalow)\n"
      ],
      "metadata": {
        "id": "aiitgA607x33"
      },
      "execution_count": 15,
      "outputs": []
    },
    {
      "cell_type": "markdown",
      "source": [
        "# Sposób drugi: ciągi urywające się po pierwszym zerze\n",
        "\n",
        "Aby uzyskać ciągi, których długość odpowiada liczbie faktycznie rozegranych rund, utworzymy funkcję. Będzie ona iteracyjnie tworzyła kolejne elementy ciągu kapitałów, za każdym razem sprawdzając dwa warunki: czy liczba rozgrywek nie przekroczyła stu i czy kapitał nie spadł do zera."
      ],
      "metadata": {
        "id": "7sgKqjk973HX"
      }
    },
    {
      "cell_type": "code",
      "source": [
        "def losuj_kapitaly(kwota, liczba_rund):\n",
        "    kapital = kwota  # podaną w argumencie kwotę traktujemy jako początkowy kapitał gracza\n",
        "    ciag_kapitalow = []  # do tego ciągu iteracyjnie będziemy dodawać kolejne elementy\n",
        "\n",
        "    for runda in range(liczba_rund):  # jako sytuację domyślną traktujemy rozegranie 100 rund\n",
        "        kapital += np.random.choice([-100, 100])  # dodajemy wygraną w i-tej rozgrywce\n",
        "        ciag_kapitalow.append(kapital)  # dodajemy kolejny element do ciągu kapitałów\n",
        "\n",
        "        if kapital <= 0:  # gdy gracz zbankrutuje, urywamy ciąg\n",
        "            break\n",
        "\n",
        "    return ciag_kapitalow  # wynikiem jest ciąg kapitałów dla pojedynczej wizyty w kasynie\n",
        "\n",
        "# Teraz używamy funkcji `losuj_kapitaly` wielokrotnie, aby symulować wiele wizyt w kasynie\n",
        "zestawienie = [losuj_kapitaly(kapital_poczatkowy, liczba_rozgrywek) for _ in range(liczba_wizyt)]\n"
      ],
      "metadata": {
        "id": "xdtz6q-079v_"
      },
      "execution_count": 16,
      "outputs": []
    },
    {
      "cell_type": "markdown",
      "source": [
        "# Ciąg dalszy: odpowiedzi na pytania\n",
        "Tworzymy ciąg składający się z ostatnich elementów ciągów kapitałów. Są to dokładnie kwoty, z jakimi gracz wychodzi z kasyna po kolejnych seriach rozgrywek."
      ],
      "metadata": {
        "id": "JtRK6-dx7824"
      }
    },
    {
      "cell_type": "code",
      "source": [
        "import numpy as np\n",
        "\n",
        "# Przykładowe dane dla pierwszej metody\n",
        "# Załóżmy, że tabela_kapitalow jest tablicą NumPy o wymiarach (liczba_rozgrywek, liczba_wizyt)\n",
        "# gdzie każda kolumna to seria kapitałów dla danej wizyty\n",
        "# tabela_kapitalow = np.array([...])\n",
        "\n",
        "# Pierwsza metoda - używając ostatniego wiersza z tabela_kapitalow\n",
        "koncowe_kapitaly_1 = tabela_kapitalow[-1, :]\n",
        "\n",
        "# Druga metoda - używając ostatniego elementu z każdej listy w zestawienie\n",
        "koncowe_kapitaly_2 = np.array([symulacja[-1] if symulacja else 0 for symulacja in zestawienie])\n",
        "\n",
        "# Obliczanie częstotliwości bankructwa dla obu metod\n",
        "czestotliwosc_bankructwa_1 = np.sum(koncowe_kapitaly_1 == 0) / liczba_wizyt\n",
        "czestotliwosc_bankructwa_2 = np.sum(koncowe_kapitaly_2 == 0) / liczba_wizyt\n",
        "\n",
        "print(f\"Częstotliwość bankructwa: {czestotliwosc_bankructwa_1} (sposób 1) oraz {czestotliwosc_bankructwa_2} (sposób 2)\")\n",
        "\n",
        "\n"
      ],
      "metadata": {
        "colab": {
          "base_uri": "https://localhost:8080/"
        },
        "id": "uU-9SMl58tbU",
        "outputId": "d13e15ab-1859-4dee-e6ca-ac193f2f8dca"
      },
      "execution_count": 17,
      "outputs": [
        {
          "output_type": "stream",
          "name": "stdout",
          "text": [
            "Częstotliwość bankructwa: 0.326 (sposób 1) oraz 0.331 (sposób 2)\n"
          ]
        }
      ]
    },
    {
      "cell_type": "code",
      "source": [
        "# Obliczanie częstotliwości podwajania kapitału dla obu metod\n",
        "czestotliwosc_podwajania_1 = np.sum(koncowe_kapitaly_1 >= 2000) / liczba_wizyt\n",
        "czestotliwosc_podwajania_2 = np.sum(koncowe_kapitaly_2 >= 2000) / liczba_wizyt\n",
        "\n",
        "print(f\"Częstotliwość podwajania kapitału: {czestotliwosc_podwajania_1} (sposób 1) oraz {czestotliwosc_podwajania_2} (sposób 2)\")\n"
      ],
      "metadata": {
        "colab": {
          "base_uri": "https://localhost:8080/"
        },
        "id": "BdxvPRwS9iui",
        "outputId": "14c0dfa6-ff02-449d-bfd7-199c2f2e977b"
      },
      "execution_count": 18,
      "outputs": [
        {
          "output_type": "stream",
          "name": "stdout",
          "text": [
            "Częstotliwość podwajania kapitału: 0.197 (sposób 1) oraz 0.181 (sposób 2)\n"
          ]
        }
      ]
    },
    {
      "cell_type": "code",
      "source": [
        "# Obliczanie średniego końcowego kapitału dla obu metod\n",
        "sredni_koncowy_kapital_1 = np.mean(koncowe_kapitaly_1)\n",
        "sredni_koncowy_kapital_2 = np.mean(koncowe_kapitaly_2)\n",
        "\n",
        "print(f\"Średni końcowy kapitał w dolarach: {sredni_koncowy_kapital_1:.2f} (sposób 1) oraz {sredni_koncowy_kapital_2:.2f} (sposób 2)\")\n"
      ],
      "metadata": {
        "colab": {
          "base_uri": "https://localhost:8080/"
        },
        "id": "_MHXWnlM9tDz",
        "outputId": "c99dca5f-740b-4ae6-f73e-41350bd5146d"
      },
      "execution_count": 20,
      "outputs": [
        {
          "output_type": "stream",
          "name": "stdout",
          "text": [
            "Średni końcowy kapitał w dolarach: 1011.40 (sposób 1) oraz 982.40 (sposób 2)\n"
          ]
        }
      ]
    },
    {
      "cell_type": "markdown",
      "source": [],
      "metadata": {
        "id": "pzIa5nZ5wgbN"
      }
    },
    {
      "cell_type": "markdown",
      "source": [
        "# Ćwiczenie: ruina gracza\n",
        "\n",
        "Rozważmy grę opartą o rzuty niesymetryczną monetą, dla której prawdopodobieństwo uzyskania orła wynosi $p\\in(0,1)$. W grze uczestniczą dwaj gracze: pierwszy zaczyna z kapitałem $N$ zł, a drugi z kapitałem $M - N$\n",
        "zł, gdzie przez $M$ oznaczamy łączny kapitał w grze. Gdy wypadnie reszka, pierwszy gracz przekazuje 1 zł\n",
        "drugiemu. Gdy wypadnie orzeł, drugi gracz oddaje 1 zł pierwszemu. Gra kończy się wtedy, gdy jeden z\n",
        "graczy - przegrany - straci wszystkie pieniądze na rzecz drugiego - zwycięzcy.\n",
        "\n",
        "* *Pytanie 1*: Jak często wygrywa pierwszy gracz?\n",
        "* *Pytanie 2*: Jaka jest średnia liczba rzutów monetą w czasie jednej rozgrywki?\n",
        "\n",
        "Na powyższe pytania odpowiedz dla $p = {12\\over 25}$, $M = 50$\n",
        "oraz $N \\in\\{5, 10, 15, 20, 25, 30, 35, 40, 45\\}$. Wyestymowane\n",
        "prawdopodobieństwo wygranej pierwszego gracza porównaj na wykresie z prawdziwym prawdopodobieństwem, które dla $p \\neq {1\\over 2} wynosi\n",
        "\n",
        "\n",
        "$$\\rho(N)=\n",
        " {1-\\left({1-p\\over p}\\right)^N\\over 1-\\left({1-p\\over p}\\right)^M}\n",
        "   $$\n",
        "\n",
        "\n"
      ],
      "metadata": {
        "id": "kPNLRpoD9yRk"
      }
    },
    {
      "cell_type": "markdown",
      "source": [
        "* *Pytanie 3*: Dla $N \\in \\{5, 25, 35\\}$ przedstaw przebieg pierwszych 30 wysymulowanych rozgrywek na wykresie liniowym (na osi $X$ liczba wykonanych rzutów, a na osi $Y$ kapitał pierwszego gracza). Jak dobrać skalę na osi $X$? Porównaj otrzymane wykresy."
      ],
      "metadata": {
        "id": "vavWuhnc-lh5"
      }
    },
    {
      "cell_type": "code",
      "source": [],
      "metadata": {
        "id": "CAaSK7zi-lA5"
      },
      "execution_count": 20,
      "outputs": []
    }
  ]
}